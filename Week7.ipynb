{
  "nbformat": 4,
  "nbformat_minor": 0,
  "metadata": {
    "colab": {
      "private_outputs": true,
      "provenance": [],
      "authorship_tag": "ABX9TyOGQEm040Q2fGDUo7Wgebem",
      "include_colab_link": true
    },
    "kernelspec": {
      "name": "python3",
      "display_name": "Python 3"
    },
    "language_info": {
      "name": "python"
    }
  },
  "cells": [
    {
      "cell_type": "markdown",
      "metadata": {
        "id": "view-in-github",
        "colab_type": "text"
      },
      "source": [
        "<a href=\"https://colab.research.google.com/github/yjjangg/yjjang/blob/main/Week7.ipynb\" target=\"_parent\"><img src=\"https://colab.research.google.com/assets/colab-badge.svg\" alt=\"Open In Colab\"/></a>"
      ]
    },
    {
      "cell_type": "code",
      "execution_count": null,
      "metadata": {
        "id": "qgZV6iPqb_Kt"
      },
      "outputs": [],
      "source": [
        "from google.colab import drive\n",
        "drive.mount('/content/drive')"
      ]
    },
    {
      "cell_type": "code",
      "source": [
        "cd /content/drive/MyDrive/Hands-On-Data-Analysis-with-Pandas-2nd-edition/ch_05/"
      ],
      "metadata": {
        "id": "Y2hLXmcpcUXP"
      },
      "execution_count": null,
      "outputs": []
    },
    {
      "cell_type": "code",
      "source": [
        "import matplotlib.pyplot as plt\n",
        "import pandas as pd"
      ],
      "metadata": {
        "id": "PdCVzqixcrpH"
      },
      "execution_count": null,
      "outputs": []
    },
    {
      "cell_type": "code",
      "source": [
        "fb = pd.read_csv(\n",
        "    'data/fb_stock_prices_2018.csv', index_col='date', parse_dates=True\n",
        ")\n",
        "plt.plot(fb.index, fb.open)\n",
        "plt.show()"
      ],
      "metadata": {
        "id": "FKqKAD5pdyMX"
      },
      "execution_count": null,
      "outputs": []
    },
    {
      "cell_type": "code",
      "source": [
        "plt.plot('high', 'low', 'or', data=fb.head(20))"
      ],
      "metadata": {
        "id": "_9ORLE6ed5A2"
      },
      "execution_count": null,
      "outputs": []
    },
    {
      "cell_type": "code",
      "source": [
        "quakes = pd.read_csv('data/earthquakes.csv')\n",
        "plt.hist(quakes.query('magType == \"ml\"').mag)"
      ],
      "metadata": {
        "id": "3z_jklUyf1Lr"
      },
      "execution_count": null,
      "outputs": []
    },
    {
      "cell_type": "code",
      "source": [
        "x = quakes.query('magType == \"ml\"').mag\n",
        "fig, axes = plt.subplots(1, 2, figsize=(10, 3))\n",
        "for ax, bins in zip(axes, [7, 35]):\n",
        "    ax.hist(x, bins=bins)\n",
        "    ax.set_title(f'bins param: {bins}')"
      ],
      "metadata": {
        "id": "Ec5u8KnTgIcm"
      },
      "execution_count": null,
      "outputs": []
    },
    {
      "cell_type": "code",
      "source": [
        "fig = plt.figure()"
      ],
      "metadata": {
        "id": "mL-bpFrInPTE"
      },
      "execution_count": null,
      "outputs": []
    },
    {
      "cell_type": "code",
      "source": [
        "fig, axes = plt.subplots(1, 2)"
      ],
      "metadata": {
        "id": "9pWJjTHgnfVk"
      },
      "execution_count": null,
      "outputs": []
    },
    {
      "cell_type": "code",
      "source": [
        "fig = plt.figure(figsize=(3, 3))\n",
        "outside = fig.add_axes([0.1, 0.1, 0.9, 0.9])\n",
        "inside = fig.add_axes([0.3, 0.3, 0.25, 0.25])"
      ],
      "metadata": {
        "id": "8zzTz6gko1yy"
      },
      "execution_count": null,
      "outputs": []
    },
    {
      "cell_type": "code",
      "source": [
        "fig = plt.figure(figsize=(8, 8))\n",
        "gs = fig.add_gridspec(3, 3)\n",
        "top_left = fig.add_subplot(gs[0, 0])\n",
        "mid_left = fig.add_subplot(gs[1, 0])\n",
        "top_right = fig.add_subplot(gs[:2, 1:])\n",
        "bottom = fig.add_subplot(gs[2,:])"
      ],
      "metadata": {
        "id": "F0TjAvG1o5fz"
      },
      "execution_count": null,
      "outputs": []
    },
    {
      "cell_type": "code",
      "source": [
        "fig.savefig('empty.png')"
      ],
      "metadata": {
        "id": "AwljeMlIpmZO"
      },
      "execution_count": null,
      "outputs": []
    },
    {
      "cell_type": "code",
      "source": [
        "plt.close('all')"
      ],
      "metadata": {
        "id": "zKGRWxzXpsCa"
      },
      "execution_count": null,
      "outputs": []
    },
    {
      "cell_type": "code",
      "source": [
        "fig = plt.figure(figsize=(10, 4))"
      ],
      "metadata": {
        "id": "7Wk-6eThpvtv"
      },
      "execution_count": null,
      "outputs": []
    },
    {
      "cell_type": "code",
      "source": [
        "fig, axes = plt.subplots(1, 2, figsize=(10, 4))"
      ],
      "metadata": {
        "id": "EXnPPsRApzks"
      },
      "execution_count": null,
      "outputs": []
    },
    {
      "cell_type": "code",
      "source": [
        "import random\n",
        "import matplotlib as mpl\n",
        "\n",
        "rcparams_list = list(mpl.rcParams.keys())\n",
        "random.seed(20) # make this repeatable\n",
        "random.shuffle(rcparams_list)\n",
        "sorted(rcparams_list[:20])"
      ],
      "metadata": {
        "id": "ktHybkHSqBoR"
      },
      "execution_count": null,
      "outputs": []
    },
    {
      "cell_type": "code",
      "source": [
        "mpl.rcParams['figure.figsize']"
      ],
      "metadata": {
        "id": "x-z8xVdwqHnB"
      },
      "execution_count": null,
      "outputs": []
    },
    {
      "cell_type": "code",
      "source": [
        "mpl.rcParams['figure.figsize'] = (300, 10)\n",
        "mpl.rcParams['figure.figsize']"
      ],
      "metadata": {
        "id": "9ymuKHxfqJeN"
      },
      "execution_count": null,
      "outputs": []
    },
    {
      "cell_type": "code",
      "source": [
        "mpl.rcdefaults()\n",
        "mpl.rcParams['figure.figsize']"
      ],
      "metadata": {
        "id": "YnGRRP4mqQr-"
      },
      "execution_count": null,
      "outputs": []
    },
    {
      "cell_type": "code",
      "source": [
        "plt.rc('figure', figsize=(20, 20)) # change `figsize` default to (20, 20)\n",
        "plt.rcdefaults() # reset the default"
      ],
      "metadata": {
        "id": "gp229tpAqcSC"
      },
      "execution_count": null,
      "outputs": []
    },
    {
      "cell_type": "code",
      "source": [
        "%matplotlib inline\n",
        "import matplotlib.pyplot as plt\n",
        "import numpy as np\n",
        "import pandas as pd\n",
        "\n",
        "fb = pd.read_csv(\n",
        "    'data/fb_stock_prices_2018.csv', index_col='date', parse_dates=True\n",
        ")\n",
        "quakes = pd.read_csv('data/earthquakes.csv')\n",
        "covid = pd.read_csv('data/covid19_cases.csv').assign(\n",
        "    date=lambda x: pd.to_datetime(x.dateRep, format='%d/%m/%Y')\n",
        ").set_index('date').replace(\n",
        "    'United_States_of_America', 'USA'\n",
        ").sort_index()['2020-01-18':'2020-09-18']"
      ],
      "metadata": {
        "id": "7qt_4EWkqz8k"
      },
      "execution_count": null,
      "outputs": []
    },
    {
      "cell_type": "code",
      "source": [
        "fb.plot(\n",
        "    kind='line',\n",
        "    y='open',\n",
        "    figsize=(10, 5),\n",
        "    style='-b',\n",
        "    legend=False,\n",
        "    title='Evolution of Facebook Open Price'\n",
        ")"
      ],
      "metadata": {
        "id": "evpET9Hnq1eJ"
      },
      "execution_count": null,
      "outputs": []
    },
    {
      "cell_type": "code",
      "source": [
        "fb.plot(\n",
        "    kind='line',\n",
        "    y='open',\n",
        "    figsize=(10, 5),\n",
        "    color='blue',\n",
        "    linestyle='solid',\n",
        "    legend=False,\n",
        "    title='Evolution of Facebook Open Price'\n",
        ")"
      ],
      "metadata": {
        "id": "suW-ev6LrHKe"
      },
      "execution_count": null,
      "outputs": []
    },
    {
      "cell_type": "code",
      "source": [
        "fb.first('1W').plot(\n",
        "    y=['open', 'high', 'low', 'close'],\n",
        "    style=['o-b', '--r', ':k', '.-g'],\n",
        "    title='Facebook OHLC Prices during 1st Week of Trading 2018'\n",
        ").autoscale()"
      ],
      "metadata": {
        "id": "-NahfZHgrbOj"
      },
      "execution_count": null,
      "outputs": []
    },
    {
      "cell_type": "code",
      "source": [
        "fb.plot(\n",
        "    kind='line',\n",
        "    subplots=True,\n",
        "    layout=(3, 2),\n",
        "    figsize=(15, 10),\n",
        "    title='Facebook Stock 2018'\n",
        ")"
      ],
      "metadata": {
        "id": "x5mzdDybrcWv"
      },
      "execution_count": null,
      "outputs": []
    },
    {
      "cell_type": "code",
      "source": [
        "new_cases_rolling_average = covid.pivot_table(\n",
        "    index=covid.index, \n",
        "    columns='countriesAndTerritories', \n",
        "    values='cases'\n",
        ").rolling(7).mean()"
      ],
      "metadata": {
        "id": "3p6AJ1g2rvlD"
      },
      "execution_count": null,
      "outputs": []
    },
    {
      "cell_type": "code",
      "source": [
        "fig, axes = plt.subplots(1, 3, figsize=(15, 5))\n",
        "\n",
        "new_cases_rolling_average[['China']].plot(ax=axes[0], style='-.c')\n",
        "new_cases_rolling_average[['Italy', 'Spain']].plot(\n",
        "    ax=axes[1], style=['-', '--'], \n",
        "    title='7-day rolling average of new COVID-19 cases\\n(source: ECDC)'\n",
        ")\n",
        "new_cases_rolling_average[['Brazil', 'India', 'USA']]\\\n",
        "    .plot(ax=axes[2], style=['--', ':', '-'])"
      ],
      "metadata": {
        "id": "q-MciLTHr3ge"
      },
      "execution_count": null,
      "outputs": []
    },
    {
      "cell_type": "code",
      "source": [
        "covid.countriesAndTerritories.unique()"
      ],
      "metadata": {
        "id": "5DdTt5rPsgY4"
      },
      "execution_count": null,
      "outputs": []
    },
    {
      "cell_type": "code",
      "source": [
        "new_cases_rolling_average.columns.unique() "
      ],
      "metadata": {
        "id": "NQuZNncfsD7k"
      },
      "execution_count": null,
      "outputs": []
    },
    {
      "cell_type": "code",
      "source": [
        "cols = [\n",
        "    col for col in new_cases_rolling_average.columns \n",
        "    if col not in ['Thailand', 'Canada', 'United_Kingdom', 'Japan']\n",
        "]\n",
        "new_cases_rolling_average.assign(\n",
        "    **{'Italy & Spain': lambda x: x.Italy + x.Spain}\n",
        ").sort_index(axis=1).assign(\n",
        "    Other=lambda x: x[cols].sum(axis=1)\n",
        ").drop(columns=cols).plot(\n",
        "    kind='area', figsize=(15, 5), \n",
        "    title='7-day rolling average of new COVID-19 cases\\n(source: ECDC)'\n",
        ")"
      ],
      "metadata": {
        "id": "Ogy5Xuyar5s1"
      },
      "execution_count": null,
      "outputs": []
    },
    {
      "cell_type": "code",
      "source": [
        "indonesia_quakes = quakes.query('parsed_place == \"Indonesia\"').assign(\n",
        "    time=lambda x: pd.to_datetime(x.time, unit='ms'),\n",
        "    earthquake=1\n",
        ").set_index('time').resample('1D').sum()\n",
        "\n",
        "# format the datetimes in the index for the x-axis\n",
        "indonesia_quakes.index = indonesia_quakes.index.strftime('%b\\n%d')\n",
        "\n",
        "indonesia_quakes.plot(\n",
        "    y=['earthquake', 'tsunami'], kind='bar', figsize=(15, 3), \n",
        "    rot=0, label=['earthquakes', 'tsunamis'], \n",
        "    title='Earthquakes and Tsunamis in Indonesia '\n",
        "          '(September 18, 2018 - October 13, 2018)'\n",
        ")\n",
        "\n",
        "# label the axes (discussed in chapter 6)\n",
        "plt.xlabel('date')\n",
        "plt.ylabel('count')"
      ],
      "metadata": {
        "id": "OjRxAu4ktNuW"
      },
      "execution_count": null,
      "outputs": []
    },
    {
      "cell_type": "code",
      "source": [
        "indonesia_quakes.plot(\n",
        "    y=['earthquake', 'tsunami'], kind='bar', figsize=(15, 3), \n",
        "    rot=0, label=['earthquakes', 'tsunamis'], \n",
        "    title='Earthquakes and Tsunamis in Indonesia '\n",
        "          '(September 18, 2018 - October 13, 2018)',\n",
        "    stacked = True\n",
        "\n",
        ")\n",
        "\n",
        "plt.xlabel('date')\n",
        "plt.ylabel('count')"
      ],
      "metadata": {
        "id": "YN_xcs_-uKEe"
      },
      "execution_count": null,
      "outputs": []
    },
    {
      "cell_type": "code",
      "source": [
        "indonesia_quakes[['tsunami', 'earthquake']].apply(lambda x: x / x.sum(), axis=1).plot(\n",
        "    y=['earthquake', 'tsunami'], kind='bar', figsize=(15, 3), \n",
        "    rot=0, label=['earthquakes', 'tsunamis'], \n",
        "    title='Earthquakes and Tsunamis in Indonesia '\n",
        "          '(September 18, 2018 - October 13, 2018)',\n",
        "    stacked = True\n",
        ")"
      ],
      "metadata": {
        "id": "C-F4fjNwuL6n"
      },
      "execution_count": null,
      "outputs": []
    }
  ]
}
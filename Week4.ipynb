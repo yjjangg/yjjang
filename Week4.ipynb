{
  "nbformat": 4,
  "nbformat_minor": 0,
  "metadata": {
    "colab": {
      "private_outputs": true,
      "provenance": [],
      "authorship_tag": "ABX9TyPzabyQvpAB4B5aaVvz6KjO",
      "include_colab_link": true
    },
    "kernelspec": {
      "name": "python3",
      "display_name": "Python 3"
    },
    "language_info": {
      "name": "python"
    }
  },
  "cells": [
    {
      "cell_type": "markdown",
      "metadata": {
        "id": "view-in-github",
        "colab_type": "text"
      },
      "source": [
        "<a href=\"https://colab.research.google.com/github/yjjangg/yjjang/blob/main/Week4.ipynb\" target=\"_parent\"><img src=\"https://colab.research.google.com/assets/colab-badge.svg\" alt=\"Open In Colab\"/></a>"
      ]
    },
    {
      "cell_type": "code",
      "execution_count": null,
      "metadata": {
        "id": "arRYSXFMyWzR"
      },
      "outputs": [],
      "source": [
        "from google.colab import drive\n",
        "drive.mount('/content/drive')"
      ]
    },
    {
      "cell_type": "code",
      "source": [
        "cd /content/drive/MyDrive/Hands-On-Data-Analysis-with-Pandas-2nd-edition/ch_02/"
      ],
      "metadata": {
        "id": "Asp9IRdI1_nl"
      },
      "execution_count": null,
      "outputs": []
    },
    {
      "cell_type": "code",
      "source": [
        "import pandas as pd\n",
        "\n",
        "df = pd.read_csv('data/earthquakes.csv')"
      ],
      "metadata": {
        "id": "Ll5tniF62Pw3"
      },
      "execution_count": null,
      "outputs": []
    },
    {
      "cell_type": "code",
      "source": [
        "df.mag"
      ],
      "metadata": {
        "id": "on8mM6Wu2gUd"
      },
      "execution_count": null,
      "outputs": []
    },
    {
      "cell_type": "code",
      "source": [
        "df.loc[3:10,['mag','magType','type']]"
      ],
      "metadata": {
        "id": "obQzT5IP2z3j"
      },
      "execution_count": null,
      "outputs": []
    },
    {
      "cell_type": "code",
      "source": [
        "df.iloc[3:10,[8,9,21]]"
      ],
      "metadata": {
        "id": "UnH0jw613EH3"
      },
      "execution_count": null,
      "outputs": []
    },
    {
      "cell_type": "code",
      "source": [
        "df.loc[\n",
        "    (df.place.str.contains('Arizona')),\n",
        "    ['mag', 'magType','type','place']\n",
        "]"
      ],
      "metadata": {
        "id": "N_vanr173uTR"
      },
      "execution_count": null,
      "outputs": []
    },
    {
      "cell_type": "code",
      "source": [
        "df.loc[\n",
        "    [df.mag.idxmax()],\n",
        "    ['mag', 'magType', 'type']\n",
        "]"
      ],
      "metadata": {
        "id": "km7EOVZ-38UT"
      },
      "execution_count": null,
      "outputs": []
    },
    {
      "cell_type": "code",
      "source": [
        "df.sort_values(['mag'],ascending=False).head(10)"
      ],
      "metadata": {
        "id": "rzExCRQ85BpD"
      },
      "execution_count": null,
      "outputs": []
    },
    {
      "cell_type": "code",
      "source": [
        "df.columns"
      ],
      "metadata": {
        "id": "haDq1KsF6aQA"
      },
      "execution_count": null,
      "outputs": []
    },
    {
      "cell_type": "code",
      "source": [
        "del df['alert']"
      ],
      "metadata": {
        "id": "s1VwcJtV6syL"
      },
      "execution_count": null,
      "outputs": []
    },
    {
      "cell_type": "code",
      "source": [
        "df.columns"
      ],
      "metadata": {
        "id": "F0qnNkfn6vuX"
      },
      "execution_count": null,
      "outputs": []
    },
    {
      "cell_type": "code",
      "source": [
        "df['mag1']=df.mag"
      ],
      "metadata": {
        "id": "hjx4D-9h7T3x"
      },
      "execution_count": null,
      "outputs": []
    },
    {
      "cell_type": "code",
      "source": [
        "df['magType1']=df.magType"
      ],
      "metadata": {
        "id": "Rkr-m0uw-AG4"
      },
      "execution_count": null,
      "outputs": []
    },
    {
      "cell_type": "code",
      "source": [
        "v1=df.mag1\n",
        "v2=df.magType1"
      ],
      "metadata": {
        "id": "75E73Qcc-C3b"
      },
      "execution_count": null,
      "outputs": []
    },
    {
      "cell_type": "code",
      "source": [
        "df.pop('mag1')"
      ],
      "metadata": {
        "id": "5Rdn9_xb-c0Q"
      },
      "execution_count": null,
      "outputs": []
    },
    {
      "cell_type": "code",
      "source": [
        "df.pop('magType1')"
      ],
      "metadata": {
        "id": "EyOO5G-8BDLR"
      },
      "execution_count": null,
      "outputs": []
    },
    {
      "cell_type": "code",
      "source": [
        "df.columns"
      ],
      "metadata": {
        "id": "VZUz0mRJ-udY"
      },
      "execution_count": null,
      "outputs": []
    },
    {
      "cell_type": "code",
      "source": [
        "newdata=pd.concat([df,v1,v2],axis=1)"
      ],
      "metadata": {
        "id": "4BO2o7y-_uag"
      },
      "execution_count": null,
      "outputs": []
    },
    {
      "cell_type": "code",
      "source": [],
      "metadata": {
        "id": "1p3Z3A4H_8Mw"
      },
      "execution_count": null,
      "outputs": []
    },
    {
      "cell_type": "code",
      "source": [
        "newdata.columns"
      ],
      "metadata": {
        "id": "vVUbburX__wD"
      },
      "execution_count": null,
      "outputs": []
    }
  ]
}
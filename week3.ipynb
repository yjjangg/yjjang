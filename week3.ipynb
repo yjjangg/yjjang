{
  "nbformat": 4,
  "nbformat_minor": 0,
  "metadata": {
    "colab": {
      "private_outputs": true,
      "provenance": [],
      "authorship_tag": "ABX9TyN8JSIF+pqDQ5F5H4l/vq33",
      "include_colab_link": true
    },
    "kernelspec": {
      "name": "python3",
      "display_name": "Python 3"
    },
    "language_info": {
      "name": "python"
    }
  },
  "cells": [
    {
      "cell_type": "markdown",
      "metadata": {
        "id": "view-in-github",
        "colab_type": "text"
      },
      "source": [
        "<a href=\"https://colab.research.google.com/github/yjjangg/yjjang/blob/main/week3.ipynb\" target=\"_parent\"><img src=\"https://colab.research.google.com/assets/colab-badge.svg\" alt=\"Open In Colab\"/></a>"
      ]
    },
    {
      "cell_type": "code",
      "execution_count": null,
      "metadata": {
        "id": "Rczzwjs60BZ-"
      },
      "outputs": [],
      "source": [
        "import datetime as dt\n",
        "import numpy as np\n",
        "import pandas as pd"
      ]
    },
    {
      "cell_type": "code",
      "source": [
        "dict_Team1={'Name': ['장영진','이상민','김진재','장효정'],\n",
        "            'Hobby': ['listening music','reading a book','traveling','sleeping'],\n",
        "            'Major': ['Statistics', 'Mathematics', 'Statistics', 'Statistics'],\n",
        "            'numeric': [1,2,3,4]\n",
        "}"
      ],
      "metadata": {
        "id": "2KDE3PPd0S19"
      },
      "execution_count": null,
      "outputs": []
    },
    {
      "cell_type": "code",
      "source": [
        "df_1=pd.DataFrame(dict_Team1)"
      ],
      "metadata": {
        "id": "yJqCzUA99JK4"
      },
      "execution_count": null,
      "outputs": []
    },
    {
      "cell_type": "code",
      "source": [
        "df_1.set_index('Name')"
      ],
      "metadata": {
        "id": "ztdCnAT92ZTL"
      },
      "execution_count": null,
      "outputs": []
    },
    {
      "cell_type": "code",
      "source": [
        "df_1.to_csv('team1')"
      ],
      "metadata": {
        "id": "r9inDrok3hN4"
      },
      "execution_count": null,
      "outputs": []
    },
    {
      "cell_type": "code",
      "source": [
        "df_1.count"
      ],
      "metadata": {
        "id": "8tGrePJ84N0I"
      },
      "execution_count": null,
      "outputs": []
    },
    {
      "cell_type": "code",
      "source": [
        "df_1.nunique"
      ],
      "metadata": {
        "id": "mg1xSw7m4dLo"
      },
      "execution_count": null,
      "outputs": []
    },
    {
      "cell_type": "code",
      "source": [
        "df_1.sum"
      ],
      "metadata": {
        "id": "PPF9HfQg4n0N"
      },
      "execution_count": null,
      "outputs": []
    },
    {
      "cell_type": "code",
      "source": [
        "df_1.describe"
      ],
      "metadata": {
        "id": "zxAQxihN4rkz"
      },
      "execution_count": null,
      "outputs": []
    },
    {
      "cell_type": "code",
      "source": [
        "from google.colab import drive\n",
        "drive.mount('/content/drive')"
      ],
      "metadata": {
        "id": "Ps_xJ6xD5pyL"
      },
      "execution_count": null,
      "outputs": []
    },
    {
      "cell_type": "code",
      "source": [],
      "metadata": {
        "id": "dLAglV-w51mK"
      },
      "execution_count": null,
      "outputs": []
    }
  ]
}
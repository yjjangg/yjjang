{
  "nbformat": 4,
  "nbformat_minor": 0,
  "metadata": {
    "colab": {
      "private_outputs": true,
      "provenance": [],
      "authorship_tag": "ABX9TyOJKONeFzhxwhIYbcB5TwLs",
      "include_colab_link": true
    },
    "kernelspec": {
      "name": "python3",
      "display_name": "Python 3"
    },
    "language_info": {
      "name": "python"
    }
  },
  "cells": [
    {
      "cell_type": "markdown",
      "metadata": {
        "id": "view-in-github",
        "colab_type": "text"
      },
      "source": [
        "<a href=\"https://colab.research.google.com/github/yjjangg/yjjang/blob/main/Week6.ipynb\" target=\"_parent\"><img src=\"https://colab.research.google.com/assets/colab-badge.svg\" alt=\"Open In Colab\"/></a>"
      ]
    },
    {
      "cell_type": "code",
      "execution_count": null,
      "metadata": {
        "id": "DmMjAW646Yub"
      },
      "outputs": [],
      "source": [
        "from google.colab import drive\n",
        "drive.mount('/content/drive')"
      ]
    },
    {
      "cell_type": "code",
      "source": [
        "cd /content/drive/MyDrive/Hands-On-Data-Analysis-with-Pandas-2nd-edition/ch_04"
      ],
      "metadata": {
        "id": "1bVC6V0m6gcd"
      },
      "execution_count": null,
      "outputs": []
    },
    {
      "cell_type": "code",
      "source": [
        "import numpy as np\n",
        "import pandas as pd\n",
        "weather = pd.read_csv('data/weather_by_station.csv', index_col='date', parse_dates=True)"
      ],
      "metadata": {
        "id": "7axhAUE46o60"
      },
      "execution_count": null,
      "outputs": []
    },
    {
      "cell_type": "code",
      "source": [
        "weather"
      ],
      "metadata": {
        "id": "jDExpERx7Ad_"
      },
      "execution_count": null,
      "outputs": []
    },
    {
      "cell_type": "code",
      "source": [
        "dp=weather.query('datatype == \"PRCP\"').groupby(level=0).sum()\n",
        "dp"
      ],
      "metadata": {
        "id": "uMOZcoPfCjwY"
      },
      "execution_count": null,
      "outputs": []
    },
    {
      "cell_type": "code",
      "source": [
        "dp.groupby(pd.Grouper(freq='Q')).sum().head()\n",
        "# 3rd quarter had the most rain from the daily precipitation data"
      ],
      "metadata": {
        "id": "lkNVvMc5CsFD"
      },
      "execution_count": null,
      "outputs": []
    },
    {
      "cell_type": "code",
      "source": [
        "weather\\\n",
        "    .query('datatype == \"PRCP\"')\\\n",
        "    .groupby(level=0).mean()\\\n",
        "    .assign(\n",
        "        total_prcp_in_quarter=lambda x: \\\n",
        "            x.groupby(pd.Grouper(freq='Q')).transform(np.sum),\n",
        "            num_monthly_prcp=lambda x: \\\n",
        "            x.groupby(pd.Grouper(freq='M')).transform('count').value\n",
        "            )"
      ],
      "metadata": {
        "id": "ufDn5tXnBkAl"
      },
      "execution_count": null,
      "outputs": []
    },
    {
      "cell_type": "code",
      "source": [
        "weather\\\n",
        "    .query('datatype == \"PRCP\"')\\\n",
        "    .rename(dict(value='prcp'), axis=1)\\\n",
        "    .groupby(level=0).mean()\\\n",
        "    .assign(\n",
        "        total_prcp_in_month=lambda x: \\\n",
        "            x.groupby(pd.Grouper(freq='M')).transform(np.sum),\n",
        "        num_monthly_prcp=lambda x: \\\n",
        "            x.prcp.div(x.total_prcp_in_month)\n",
        "    )"
      ],
      "metadata": {
        "id": "YIwqiPZxGj7d"
      },
      "execution_count": null,
      "outputs": []
    },
    {
      "cell_type": "code",
      "source": [
        "dp.assign(rolling_prcp = lambda x : x.value.rolling('3D').mean()).T"
      ],
      "metadata": {
        "id": "zlwh-IMMKCmV"
      },
      "execution_count": null,
      "outputs": []
    },
    {
      "cell_type": "code",
      "source": [
        "import numpy as np\n",
        "import pandas as pd\n",
        "\n",
        "fb = pd.read_csv('data/fb_2018.csv', index_col='date', parse_dates=True).assign(\n",
        "    trading_volume=lambda x: pd.cut(x.volume, bins=3, labels=['low', 'med', 'high'])\n",
        ")\n",
        "fb"
      ],
      "metadata": {
        "id": "cfROmlbdLE9x"
      },
      "execution_count": null,
      "outputs": []
    },
    {
      "cell_type": "code",
      "source": [
        "fb.pivot_table(index='trading_volume', columns=fb.index.month, values='close', aggfunc='count')"
      ],
      "metadata": {
        "id": "Z-2-aJ4Mg6yv"
      },
      "execution_count": null,
      "outputs": []
    },
    {
      "cell_type": "code",
      "source": [
        "pd.crosstab(index=fb.trading_volume, columns=fb.index.month, colnames=['month'])"
      ],
      "metadata": {
        "id": "gVoRVyOdiv0d"
      },
      "execution_count": null,
      "outputs": []
    }
  ]
}
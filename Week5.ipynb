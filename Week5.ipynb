{
  "nbformat": 4,
  "nbformat_minor": 0,
  "metadata": {
    "colab": {
      "private_outputs": true,
      "provenance": [],
      "authorship_tag": "ABX9TyO3PxvfWMFbsus9mCDfnm7Z",
      "include_colab_link": true
    },
    "kernelspec": {
      "name": "python3",
      "display_name": "Python 3"
    },
    "language_info": {
      "name": "python"
    }
  },
  "cells": [
    {
      "cell_type": "markdown",
      "metadata": {
        "id": "view-in-github",
        "colab_type": "text"
      },
      "source": [
        "<a href=\"https://colab.research.google.com/github/yjjangg/yjjang/blob/main/Week5.ipynb\" target=\"_parent\"><img src=\"https://colab.research.google.com/assets/colab-badge.svg\" alt=\"Open In Colab\"/></a>"
      ]
    },
    {
      "cell_type": "code",
      "execution_count": null,
      "metadata": {
        "id": "ViUB7lXN3riY"
      },
      "outputs": [],
      "source": [
        "from google.colab import drive\n",
        "drive.mount('/content/drive')"
      ]
    },
    {
      "cell_type": "code",
      "source": [
        "cd /content/drive/MyDrive/Hands-On-Data-Analysis-with-Pandas-2nd-edition/ch_03"
      ],
      "metadata": {
        "id": "MxkduSAM5DyN"
      },
      "execution_count": null,
      "outputs": []
    },
    {
      "cell_type": "code",
      "source": [
        "import pandas as pd\n",
        "long_data=pd.read_csv('data/long_data.csv')\n",
        "long_data"
      ],
      "metadata": {
        "id": "jz1s1XfN5FzZ"
      },
      "execution_count": null,
      "outputs": []
    },
    {
      "cell_type": "code",
      "source": [
        "long_df = pd.read_csv(\n",
        "    'data/long_data.csv', usecols=['date', 'datatype', 'value']\n",
        ").rename(\n",
        "    columns={'value': 'temp_C'}\n",
        ").assign(\n",
        "    date=lambda x: pd.to_datetime(x.date),\n",
        "    temp_F=lambda x: (x.temp_C * 9/5) + 32\n",
        ")\n",
        "long_df.head()"
      ],
      "metadata": {
        "id": "5cylQe996KyK"
      },
      "execution_count": null,
      "outputs": []
    },
    {
      "cell_type": "code",
      "source": [
        "pivot_df=long_df.pivot(\n",
        "    index='date', columns='datatype', values=['temp_C','temp_F']\n",
        ")\n",
        "pivot_df.head()"
      ],
      "metadata": {
        "id": "lUtQjeq46d5Q"
      },
      "execution_count": null,
      "outputs": []
    },
    {
      "cell_type": "code",
      "source": [
        "pivot_df.describe()"
      ],
      "metadata": {
        "id": "kHxgRoUg7PCR"
      },
      "execution_count": null,
      "outputs": []
    },
    {
      "cell_type": "code",
      "source": [
        "multi_index_df = long_df.set_index(['date', 'datatype'])\n",
        "multi_index_df.head().index"
      ],
      "metadata": {
        "id": "t7YojRWA7s05"
      },
      "execution_count": null,
      "outputs": []
    },
    {
      "cell_type": "code",
      "source": [
        "unstacked_df = multi_index_df.unstack()\n",
        "unstacked_df.head()"
      ],
      "metadata": {
        "id": "yEH2Wk1p_lFa"
      },
      "execution_count": null,
      "outputs": []
    },
    {
      "cell_type": "code",
      "source": [
        "extra_data = long_df.append([{\n",
        "    'datatype': 'TAVG', \n",
        "    'date': '2018-10-01', \n",
        "    'temp_C': 10, \n",
        "    'temp_F': 50\n",
        "}]).set_index(['date', 'datatype']).sort_index()\n",
        "\n",
        "extra_data['2018-10-01':'2018-10-02']"
      ],
      "metadata": {
        "id": "OiEsIrOoAm0E"
      },
      "execution_count": null,
      "outputs": []
    },
    {
      "cell_type": "code",
      "source": [
        "extra_data.unstack().head()"
      ],
      "metadata": {
        "id": "yyRgwE8wAkPl"
      },
      "execution_count": null,
      "outputs": []
    },
    {
      "cell_type": "code",
      "source": [
        "wide_df = pd.read_csv('data/wide_data.csv')\n",
        "wide_df.head()"
      ],
      "metadata": {
        "id": "H0vVlRdUBptN"
      },
      "execution_count": null,
      "outputs": []
    },
    {
      "cell_type": "code",
      "source": [
        "melted_df = wide_df.melt(\n",
        "    id_vars='date',\n",
        "    value_vars=['TMAX', 'TMIN', 'TOBS'],\n",
        "    value_name='temp_C',\n",
        "    var_name='measurement'\n",
        ")\n",
        "melted_df.head()"
      ],
      "metadata": {
        "id": "jAWTjlagBxUg"
      },
      "execution_count": null,
      "outputs": []
    },
    {
      "cell_type": "code",
      "source": [
        "wide_df.set_index('date', inplace=True)\n",
        "wide_df.head()"
      ],
      "metadata": {
        "id": "uN8tWiRQCa3D"
      },
      "execution_count": null,
      "outputs": []
    },
    {
      "cell_type": "code",
      "source": [
        "stacked_series = wide_df.stack()\n",
        "stacked_series.head()"
      ],
      "metadata": {
        "id": "CvQt0MMYCfUV"
      },
      "execution_count": null,
      "outputs": []
    },
    {
      "cell_type": "code",
      "source": [
        "stacked_df = stacked_series.to_frame('values')\n",
        "stacked_df.head()"
      ],
      "metadata": {
        "id": "SCHfDnjRCqii"
      },
      "execution_count": null,
      "outputs": []
    },
    {
      "cell_type": "code",
      "source": [
        "df = pd.read_csv('data/dirty_data.csv')\n",
        "df.head()"
      ],
      "metadata": {
        "id": "RZyOW18dDegx"
      },
      "execution_count": null,
      "outputs": []
    },
    {
      "cell_type": "code",
      "source": [
        "contain_nulls = df[\n",
        "    df.SNOW.isna() | df.SNWD.isna() | df.TOBS.isna()\n",
        "    | df.WESF.isna() | df.inclement_weather.isna()\n",
        "]\n",
        "contain_nulls"
      ],
      "metadata": {
        "id": "pi5LRJ7xDi0z"
      },
      "execution_count": null,
      "outputs": []
    },
    {
      "cell_type": "code",
      "source": [
        "df[df.inclement_weather.isna()].shape[0]"
      ],
      "metadata": {
        "id": "KlVLAXbiD_V3"
      },
      "execution_count": null,
      "outputs": []
    },
    {
      "cell_type": "code",
      "source": [
        "import numpy as np\n",
        "df[df.SNWD.isin([-np.inf, np.inf])]"
      ],
      "metadata": {
        "id": "woGYXEJUECs8"
      },
      "execution_count": null,
      "outputs": []
    },
    {
      "cell_type": "code",
      "source": [
        "df[df.duplicated()]"
      ],
      "metadata": {
        "id": "jffrP4UHEjBu"
      },
      "execution_count": null,
      "outputs": []
    },
    {
      "cell_type": "code",
      "source": [
        "df[df.duplicated(keep=False)]"
      ],
      "metadata": {
        "id": "0Rd-jlf9EokE"
      },
      "execution_count": null,
      "outputs": []
    },
    {
      "cell_type": "code",
      "source": [
        "# 1. make the date a datetime\n",
        "df.date = pd.to_datetime(df.date)\n",
        "\n",
        "# 2. save this information for later\n",
        "station_qm_wesf = df[df.station == '?'].drop_duplicates('date').set_index('date').WESF\n",
        "\n",
        "# 3. sort ? to the bottom\n",
        "df.sort_values('station', ascending=False, inplace=True)\n",
        "\n",
        "# 4. drop duplicates based on the date column keeping the first occurrence \n",
        "# which will be the valid station if it has data\n",
        "df_deduped = df.drop_duplicates('date')\n",
        "\n",
        "# 5. remove the station column because we are done with it\n",
        "df_deduped = df_deduped.drop(columns='station').set_index('date').sort_index()\n",
        "\n",
        "# 6. take valid station's WESF and fall back on station ? if it is null\n",
        "df_deduped = df_deduped.assign(\n",
        "    WESF=lambda x: x.WESF.combine_first(station_qm_wesf)\n",
        ")\n"
      ],
      "metadata": {
        "id": "-ByY7BVFG9AF"
      },
      "execution_count": null,
      "outputs": []
    },
    {
      "cell_type": "code",
      "source": [
        "df_deduped"
      ],
      "metadata": {
        "id": "6nsMwgRHHNLj"
      },
      "execution_count": null,
      "outputs": []
    },
    {
      "cell_type": "code",
      "source": [
        "df_deduped.dropna().shape"
      ],
      "metadata": {
        "id": "_-zCq08qH5ht"
      },
      "execution_count": null,
      "outputs": []
    },
    {
      "cell_type": "code",
      "source": [
        "df_deduped.dropna(\n",
        "    how='all', subset=['inclement_weather', 'SNOW', 'SNWD']\n",
        ").shape"
      ],
      "metadata": {
        "id": "qiCcvyQLVbW8"
      },
      "execution_count": null,
      "outputs": []
    },
    {
      "cell_type": "code",
      "source": [
        "df_deduped.loc[:,'WESF'].fillna(0, inplace=True)\n",
        "df_deduped.head()"
      ],
      "metadata": {
        "id": "M2uddNLfVqva"
      },
      "execution_count": null,
      "outputs": []
    },
    {
      "cell_type": "code",
      "source": [
        "df_deduped = df_deduped.assign(\n",
        "    TMAX=lambda x: x.TMAX.replace(5505, np.nan),\n",
        "    TMIN=lambda x: x.TMIN.replace(-40, np.nan),\n",
        ")\n",
        "\n",
        "df_deduped"
      ],
      "metadata": {
        "id": "ZbN8o5jhVt5v"
      },
      "execution_count": null,
      "outputs": []
    },
    {
      "cell_type": "code",
      "source": [
        "df_deduped.assign(\n",
        "    TMAX=lambda x: x.TMAX.fillna(method='ffill'),\n",
        "    TMIN=lambda x: x.TMIN.fillna(method='ffill'),\n",
        "    TOBS=lambda x: x.TOBS.fillna(method='ffill')\n",
        ").head()"
      ],
      "metadata": {
        "id": "C-iZkarBV8Tz"
      },
      "execution_count": null,
      "outputs": []
    },
    {
      "cell_type": "code",
      "source": [
        "cd /content/drive/MyDrive/Hands-On-Data-Analysis-with-Pandas-2nd-edition/ch_04"
      ],
      "metadata": {
        "id": "w_K-O6mxV92f"
      },
      "execution_count": null,
      "outputs": []
    },
    {
      "cell_type": "code",
      "source": [
        "weather = pd.read_csv('data/nyc_weather_2018.csv')\n",
        "weather.head()"
      ],
      "metadata": {
        "id": "sYo_cXf4WxKB"
      },
      "execution_count": null,
      "outputs": []
    },
    {
      "cell_type": "code",
      "source": [
        "prcp_data = weather.query('datatype == \"PRCP\" and station.str.contains(\"S0007\")',engine='python')\n",
        "prcp_data.head()"
      ],
      "metadata": {
        "id": "oCB0kL12W0in"
      },
      "execution_count": null,
      "outputs": []
    },
    {
      "cell_type": "code",
      "source": [
        "weather[\n",
        "    (weather.datatype == 'PRCP')\n",
        "    & (weather.station.str.contains('S0007'))\n",
        "]"
      ],
      "metadata": {
        "id": "YIUfev6HXGqm"
      },
      "execution_count": null,
      "outputs": []
    },
    {
      "cell_type": "code",
      "source": [
        "prcp_data['attributes'].describe()"
      ],
      "metadata": {
        "id": "PLT-C7d_YYbx"
      },
      "execution_count": null,
      "outputs": []
    },
    {
      "cell_type": "code",
      "source": [
        "inner_join = weather.merge(station_info, left_on='station', right_on='id')\n",
        "inner_join"
      ],
      "metadata": {
        "id": "nc0QR7TSZcmY"
      },
      "execution_count": null,
      "outputs": []
    },
    {
      "cell_type": "code",
      "source": [
        "left_join = station_info.merge(weather, left_on='id', right_on='station', how='left')\n",
        "right_join = weather.merge(station_info, left_on='station', right_on='id', how='right')\n"
      ],
      "metadata": {
        "id": "kDwJJkCuZi5n"
      },
      "execution_count": null,
      "outputs": []
    },
    {
      "cell_type": "code",
      "source": [
        "outer_join = weather.merge(\n",
        "    station_info[station_info.id.str.contains('US1NY')], \n",
        "    left_on='station', right_on='id', how='outer', indicator=True\n",
        ")\n",
        "\n",
        "pd.concat([\n",
        "    outer_join.query(f'_merge == \"{kind}\"').sample(2, random_state=0) \n",
        "    for kind in outer_join._merge.unique()\n",
        "]).sort_index()"
      ],
      "metadata": {
        "id": "f424PmDqZlH_"
      },
      "execution_count": null,
      "outputs": []
    }
  ]
}